{
 "cells": [
  {
   "cell_type": "code",
   "execution_count": 1,
   "metadata": {
    "colab": {
     "base_uri": "https://localhost:8080/"
    },
    "id": "_GKRLvVrh96W",
    "outputId": "39273829-38bb-40d8-edbf-6af34710b93f"
   },
   "outputs": [
    {
     "name": "stdout",
     "output_type": "stream",
     "text": [
      "Collecting sumy\n",
      "  Using cached sumy-0.11.0-py2.py3-none-any.whl (97 kB)\n",
      "Collecting breadability>=0.1.20\n",
      "  Using cached breadability-0.1.20.tar.gz (32 kB)\n",
      "Collecting docopt<0.7,>=0.6.1\n",
      "  Using cached docopt-0.6.2.tar.gz (25 kB)\n",
      "Requirement already satisfied: requests>=2.7.0 in c:\\users\\sheem\\anaconda3\\lib\\site-packages (from sumy) (2.26.0)\n",
      "Requirement already satisfied: nltk>=3.0.2 in c:\\users\\sheem\\anaconda3\\lib\\site-packages (from sumy) (3.7)\n",
      "Collecting pycountry>=18.2.23\n",
      "  Downloading pycountry-22.3.5.tar.gz (10.1 MB)\n",
      "  Installing build dependencies: started\n",
      "  Installing build dependencies: finished with status 'done'\n",
      "  Getting requirements to build wheel: started\n",
      "  Getting requirements to build wheel: finished with status 'done'\n",
      "    Preparing wheel metadata: started\n",
      "    Preparing wheel metadata: finished with status 'done'\n",
      "Requirement already satisfied: chardet in c:\\users\\sheem\\anaconda3\\lib\\site-packages (from breadability>=0.1.20->sumy) (4.0.0)\n",
      "Requirement already satisfied: lxml>=2.0 in c:\\users\\sheem\\anaconda3\\lib\\site-packages (from breadability>=0.1.20->sumy) (4.6.3)\n",
      "Requirement already satisfied: tqdm in c:\\users\\sheem\\anaconda3\\lib\\site-packages (from nltk>=3.0.2->sumy) (4.62.3)\n",
      "Requirement already satisfied: regex>=2021.8.3 in c:\\users\\sheem\\anaconda3\\lib\\site-packages (from nltk>=3.0.2->sumy) (2021.8.3)\n",
      "Requirement already satisfied: click in c:\\users\\sheem\\anaconda3\\lib\\site-packages (from nltk>=3.0.2->sumy) (8.0.3)\n",
      "Requirement already satisfied: joblib in c:\\users\\sheem\\anaconda3\\lib\\site-packages (from nltk>=3.0.2->sumy) (1.1.0)\n",
      "Requirement already satisfied: setuptools in c:\\users\\sheem\\anaconda3\\lib\\site-packages (from pycountry>=18.2.23->sumy) (58.0.4)\n",
      "Requirement already satisfied: charset-normalizer~=2.0.0 in c:\\users\\sheem\\anaconda3\\lib\\site-packages (from requests>=2.7.0->sumy) (2.0.4)\n",
      "Requirement already satisfied: certifi>=2017.4.17 in c:\\users\\sheem\\anaconda3\\lib\\site-packages (from requests>=2.7.0->sumy) (2021.10.8)\n",
      "Requirement already satisfied: urllib3<1.27,>=1.21.1 in c:\\users\\sheem\\anaconda3\\lib\\site-packages (from requests>=2.7.0->sumy) (1.26.7)\n",
      "Requirement already satisfied: idna<4,>=2.5 in c:\\users\\sheem\\anaconda3\\lib\\site-packages (from requests>=2.7.0->sumy) (3.2)\n",
      "Requirement already satisfied: colorama in c:\\users\\sheem\\anaconda3\\lib\\site-packages (from click->nltk>=3.0.2->sumy) (0.4.4)\n",
      "Building wheels for collected packages: breadability, docopt, pycountry\n",
      "  Building wheel for breadability (setup.py): started\n",
      "  Building wheel for breadability (setup.py): finished with status 'done'\n",
      "  Created wheel for breadability: filename=breadability-0.1.20-py2.py3-none-any.whl size=21711 sha256=9fbe9f1e2ee5ba121bd900708bf7346daf6178cdba9375acf128ae9a7f99f7c4\n",
      "  Stored in directory: c:\\users\\sheem\\appdata\\local\\pip\\cache\\wheels\\ba\\9f\\70\\7795228568b81b57a8932755938da9fb1f291b0576752604aa\n",
      "  Building wheel for docopt (setup.py): started\n",
      "  Building wheel for docopt (setup.py): finished with status 'done'\n",
      "  Created wheel for docopt: filename=docopt-0.6.2-py2.py3-none-any.whl size=13724 sha256=01ef5dfec764896044c0d89cc2de0cf98841bbf326b8469b723a60721252d6cc\n",
      "  Stored in directory: c:\\users\\sheem\\appdata\\local\\pip\\cache\\wheels\\70\\4a\\46\\1309fc853b8d395e60bafaf1b6df7845bdd82c95fd59dd8d2b\n",
      "  Building wheel for pycountry (PEP 517): started\n",
      "  Building wheel for pycountry (PEP 517): finished with status 'done'\n",
      "  Created wheel for pycountry: filename=pycountry-22.3.5-py2.py3-none-any.whl size=10681832 sha256=a09ccd06fec95e896c3ed9605b4be6ce34e0d4cc0a5c4cd674498297d3cd9a25\n",
      "  Stored in directory: c:\\users\\sheem\\appdata\\local\\pip\\cache\\wheels\\47\\15\\92\\e6dc85fcb0686c82e1edbcfdf80cfe4808c058813fed0baa8f\n",
      "Successfully built breadability docopt pycountry\n",
      "Installing collected packages: docopt, pycountry, breadability, sumy\n",
      "Successfully installed breadability-0.1.20 docopt-0.6.2 pycountry-22.3.5 sumy-0.11.0\n",
      "Note: you may need to restart the kernel to use updated packages.\n"
     ]
    }
   ],
   "source": [
    "#pip install sumy"
   ]
  },
  {
   "cell_type": "code",
   "execution_count": 1,
   "metadata": {},
   "outputs": [],
   "source": [
    "from sumy.parsers.plaintext import PlaintextParser\n",
    "from sumy.nlp.tokenizers import Tokenizer\n",
    "from sumy.summarizers.luhn import LuhnSummarizer\n",
    "from sumy.nlp.stemmers import Stemmer\n",
    "from sumy.utils import get_stop_words"
   ]
  },
  {
   "cell_type": "code",
   "execution_count": 4,
   "metadata": {
    "colab": {
     "base_uri": "https://localhost:8080/"
    },
    "id": "Mw7BIrTajIO6",
    "outputId": "dd2f51e1-62f2-4858-ec75-e97170862b9a"
   },
   "outputs": [
    {
     "name": "stderr",
     "output_type": "stream",
     "text": [
      "[nltk_data] Downloading package punkt to\n",
      "[nltk_data]     C:\\Users\\siddh\\AppData\\Roaming\\nltk_data...\n",
      "[nltk_data]   Package punkt is already up-to-date!\n"
     ]
    },
    {
     "data": {
      "text/plain": [
       "True"
      ]
     },
     "execution_count": 4,
     "metadata": {},
     "output_type": "execute_result"
    }
   ],
   "source": [
    "import nltk\n",
    "nltk.download('punkt')"
   ]
  },
  {
   "cell_type": "code",
   "execution_count": 3,
   "metadata": {
    "id": "aK1yY6MGh0Ri"
   },
   "outputs": [],
   "source": [
    "\n",
    "def luhn_summary(docx):\n",
    "   parser = PlaintextParser.from_string(docx,Tokenizer(\"english\"))\n",
    "   summarizer_luhn = LuhnSummarizer()\n",
    "   summary_1 =summarizer_luhn(parser.document,3)\n",
    "   summary_list = [str(sentence) for sentence in summary_1]\n",
    "   result = ' '.join(summary_list)\n",
    "   return result"
   ]
  },
  {
   "cell_type": "code",
   "execution_count": 20,
   "metadata": {
    "id": "e5OtcbhriKv2"
   },
   "outputs": [
    {
     "name": "stdout",
     "output_type": "stream",
     "text": [
      "To ignore the gossip cycle that has become the press tour of Don’t Worry Darling can be difficult in the macro, but when the movie started it slipped away quite easily. For whatever may have been said about Olivia Wilde’s second directorial feature in the lead up to its release, that friction hasn’t quite come through on screen.It’s not a good movie in the sense that it is coherent and fully grapples with the ideas it appears to be putting forward. It isn't and it doesn't. But it also is not a bad movie in that it is badly made or devoid of imagination or one where you can tell everybody on set hated everyone else. Which, after everything that’s happened, feels like more of a win in the moment than it oughta be...Wilde directs her grammatically incorrect sci-fi drama-thriller with confidence. The production step up from Booksmart is easily evident and the film is triumphant in areas like art direction (Katie Byron), costume design (Madonna regular and Once Upon a Time in Hollywood Oscar-nominee Arianne Phillips) and sound. Cinematographer Matthew Libatique (Black Swan, A Star is Born) throws enough into the visual landscape to ensure it’s never an ugly movie to have flick across the eyeballs although it has a habit of repeating its visual flourishes to a degree that can become slightly exhausting.Where Don’t Worry Darling unfortunately fumbles is the screenplay by Katie Silberman (who also scripted Booksmart). Based on a story credit by two men responsible for Chernobyl Diaries and, yes, Titanic II, the story is an amalgamation of a whole host of influences. The Stepford Wives, The Truman Show, Black Swan, Black Mirror and even the long-forgotten Matrix-era The Thirteenth Floor rise most prominently to the foreground, with Wilde herself unable to iron out the many inconsistencies, the plot holes and the general air of uncertainty that arise as a result of its plot-puzzle assembly.\n"
     ]
    }
   ],
   "source": [
    "text=\"To ignore the gossip cycle that has become the press tour of Don’t Worry Darling can be difficult in the macro, but when the movie started it slipped away quite easily. For whatever may have been said about Olivia Wilde’s second directorial feature in the lead up to its release, that friction hasn’t quite come through on screen.It’s not a good movie in the sense that it is coherent and fully grapples with the ideas it appears to be putting forward. It isn't and it doesn't. But it also is not a bad movie in that it is badly made or devoid of imagination or one where you can tell everybody on set hated everyone else. Which, after everything that’s happened, feels like more of a win in the moment than it oughta be...Wilde directs her grammatically incorrect sci-fi drama-thriller with confidence. The production step up from Booksmart is easily evident and the film is triumphant in areas like art direction (Katie Byron), costume design (Madonna regular and Once Upon a Time in Hollywood Oscar-nominee Arianne Phillips) and sound. Cinematographer Matthew Libatique (Black Swan, A Star is Born) throws enough into the visual landscape to ensure it’s never an ugly movie to have flick across the eyeballs although it has a habit of repeating its visual flourishes to a degree that can become slightly exhausting.Where Don’t Worry Darling unfortunately fumbles is the screenplay by Katie Silberman (who also scripted Booksmart). Based on a story credit by two men responsible for Chernobyl Diaries and, yes, Titanic II, the story is an amalgamation of a whole host of influences. The Stepford Wives, The Truman Show, Black Swan, Black Mirror and even the long-forgotten Matrix-era The Thirteenth Floor rise most prominently to the foreground, with Wilde herself unable to iron out the many inconsistencies, the plot holes and the general air of uncertainty that arise as a result of its plot-puzzle assembly.\"\n",
    "print(text)"
   ]
  },
  {
   "cell_type": "code",
   "execution_count": 5,
   "metadata": {
    "id": "7VCM_GUbiNXC"
   },
   "outputs": [
    {
     "data": {
      "text/plain": [
       "1913"
      ]
     },
     "execution_count": 5,
     "metadata": {},
     "output_type": "execute_result"
    }
   ],
   "source": [
    "text=\"To ignore the gossip cycle that has become the press tour of Don’t Worry Darling can be difficult in the macro, but when the movie started it slipped away quite easily. For whatever may have been said about Olivia Wilde’s second directorial feature in the lead up to its release, that friction hasn’t quite come through on screen.It’s not a good movie in the sense that it is coherent and fully grapples with the ideas it appears to be putting forward. It isn't and it doesn't. But it also is not a bad movie in that it is badly made or devoid of imagination or one where you can tell everybody on set hated everyone else. Which, after everything that’s happened, feels like more of a win in the moment than it oughta be...Wilde directs her grammatically incorrect sci-fi drama-thriller with confidence. The production step up from Booksmart is easily evident and the film is triumphant in areas like art direction (Katie Byron), costume design (Madonna regular and Once Upon a Time in Hollywood Oscar-nominee Arianne Phillips) and sound. Cinematographer Matthew Libatique (Black Swan, A Star is Born) throws enough into the visual landscape to ensure it’s never an ugly movie to have flick across the eyeballs although it has a habit of repeating its visual flourishes to a degree that can become slightly exhausting.Where Don’t Worry Darling unfortunately fumbles is the screenplay by Katie Silberman (who also scripted Booksmart). Based on a story credit by two men responsible for Chernobyl Diaries and, yes, Titanic II, the story is an amalgamation of a whole host of influences. The Stepford Wives, The Truman Show, Black Swan, Black Mirror and even the long-forgotten Matrix-era The Thirteenth Floor rise most prominently to the foreground, with Wilde herself unable to iron out the many inconsistencies, the plot holes and the general air of uncertainty that arise as a result of its plot-puzzle assembly.\"\n",
    "res=luhn_summary(text)\n",
    "len(text)"
   ]
  },
  {
   "cell_type": "code",
   "execution_count": 24,
   "metadata": {
    "colab": {
     "base_uri": "https://localhost:8080/",
     "height": 70
    },
    "id": "Exs-GP01jDy5",
    "outputId": "7b987802-4b80-4d2c-ea15-3083361180c6"
   },
   "outputs": [
    {
     "data": {
      "text/plain": [
       "'To ignore the gossip cycle that has become the press tour of Don’t Worry Darling can be difficult in the macro, but when the movie started it slipped away quite easily. For whatever may have been said about Olivia Wilde’s second directorial feature in the lead up to its release, that friction hasn’t quite come through on screen.It’s not a good movie in the sense that it is coherent and fully grapples with the ideas it appears to be putting forward. Cinematographer Matthew Libatique (Black Swan, A Star is Born) throws enough into the visual landscape to ensure it’s never an ugly movie to have flick across the eyeballs although it has a habit of repeating its visual flourishes to a degree that can become slightly exhausting.Where Don’t Worry Darling unfortunately fumbles is the screenplay by Katie Silberman (who also scripted Booksmart).'"
      ]
     },
     "execution_count": 24,
     "metadata": {},
     "output_type": "execute_result"
    }
   ],
   "source": [
    "res"
   ]
  },
  {
   "cell_type": "code",
   "execution_count": 26,
   "metadata": {},
   "outputs": [
    {
     "data": {
      "text/plain": [
       "847"
      ]
     },
     "execution_count": 26,
     "metadata": {},
     "output_type": "execute_result"
    }
   ],
   "source": [
    "len(res)"
   ]
  },
  {
   "cell_type": "code",
   "execution_count": 6,
   "metadata": {},
   "outputs": [],
   "source": [
    "from sumy.parsers.plaintext import PlaintextParser\n",
    "from sumy.nlp.tokenizers import Tokenizer\n",
    "from sumy.summarizers.lsa import LsaSummarizer"
   ]
  },
  {
   "cell_type": "code",
   "execution_count": 7,
   "metadata": {},
   "outputs": [],
   "source": [
    "def isa_summary(docx):\n",
    "\tparser = PlaintextParser.from_string(docx,Tokenizer(\"english\"))\n",
    "\tsummarizer_lsa = LsaSummarizer()\n",
    "\tsummary_2 =summarizer_lsa(parser.document,3)\n",
    "\tsummary_list = [str(sentence) for sentence in summary_2]\n",
    "\tresult = ' '.join(summary_list)\n",
    "\treturn result"
   ]
  },
  {
   "cell_type": "code",
   "execution_count": 8,
   "metadata": {},
   "outputs": [
    {
     "data": {
      "text/plain": [
       "1913"
      ]
     },
     "execution_count": 8,
     "metadata": {},
     "output_type": "execute_result"
    }
   ],
   "source": [
    "text=\"To ignore the gossip cycle that has become the press tour of Don’t Worry Darling can be difficult in the macro, but when the movie started it slipped away quite easily. For whatever may have been said about Olivia Wilde’s second directorial feature in the lead up to its release, that friction hasn’t quite come through on screen.It’s not a good movie in the sense that it is coherent and fully grapples with the ideas it appears to be putting forward. It isn't and it doesn't. But it also is not a bad movie in that it is badly made or devoid of imagination or one where you can tell everybody on set hated everyone else. Which, after everything that’s happened, feels like more of a win in the moment than it oughta be...Wilde directs her grammatically incorrect sci-fi drama-thriller with confidence. The production step up from Booksmart is easily evident and the film is triumphant in areas like art direction (Katie Byron), costume design (Madonna regular and Once Upon a Time in Hollywood Oscar-nominee Arianne Phillips) and sound. Cinematographer Matthew Libatique (Black Swan, A Star is Born) throws enough into the visual landscape to ensure it’s never an ugly movie to have flick across the eyeballs although it has a habit of repeating its visual flourishes to a degree that can become slightly exhausting.Where Don’t Worry Darling unfortunately fumbles is the screenplay by Katie Silberman (who also scripted Booksmart). Based on a story credit by two men responsible for Chernobyl Diaries and, yes, Titanic II, the story is an amalgamation of a whole host of influences. The Stepford Wives, The Truman Show, Black Swan, Black Mirror and even the long-forgotten Matrix-era The Thirteenth Floor rise most prominently to the foreground, with Wilde herself unable to iron out the many inconsistencies, the plot holes and the general air of uncertainty that arise as a result of its plot-puzzle assembly.\"\n",
    "res=isa_summary(text)\n",
    "len(text)"
   ]
  },
  {
   "cell_type": "code",
   "execution_count": 9,
   "metadata": {},
   "outputs": [
    {
     "data": {
      "text/plain": [
       "'For whatever may have been said about Olivia Wilde’s second directorial feature in the lead up to its release, that friction hasn’t quite come through on screen.It’s not a good movie in the sense that it is coherent and fully grapples with the ideas it appears to be putting forward. Which, after everything that’s happened, feels like more of a win in the moment than it oughta be...Wilde directs her grammatically incorrect sci-fi drama-thriller with confidence. Cinematographer Matthew Libatique (Black Swan, A Star is Born) throws enough into the visual landscape to ensure it’s never an ugly movie to have flick across the eyeballs although it has a habit of repeating its visual flourishes to a degree that can become slightly exhausting.Where Don’t Worry Darling unfortunately fumbles is the screenplay by Katie Silberman (who also scripted Booksmart).'"
      ]
     },
     "execution_count": 9,
     "metadata": {},
     "output_type": "execute_result"
    }
   ],
   "source": [
    "res"
   ]
  },
  {
   "cell_type": "code",
   "execution_count": 10,
   "metadata": {},
   "outputs": [
    {
     "data": {
      "text/plain": [
       "859"
      ]
     },
     "execution_count": 10,
     "metadata": {},
     "output_type": "execute_result"
    }
   ],
   "source": [
    "len(res)"
   ]
  },
  {
   "cell_type": "code",
   "execution_count": 11,
   "metadata": {},
   "outputs": [
    {
     "name": "stdout",
     "output_type": "stream",
     "text": [
      "lsa_summarization:\n",
      "Length of original input : 1913\n",
      "Length of summarized output : 859\n"
     ]
    }
   ],
   "source": [
    "print(\"lsa_summarization:\")\n",
    "print(f\"Length of original input : {len(text)}\")\n",
    "print(f\"Length of summarized output : {len(res)}\")"
   ]
  },
  {
   "cell_type": "code",
   "execution_count": null,
   "metadata": {},
   "outputs": [],
   "source": []
  }
 ],
 "metadata": {
  "accelerator": "GPU",
  "colab": {
   "provenance": []
  },
  "gpuClass": "standard",
  "kernelspec": {
   "display_name": "Python 3 (ipykernel)",
   "language": "python",
   "name": "python3"
  },
  "language_info": {
   "codemirror_mode": {
    "name": "ipython",
    "version": 3
   },
   "file_extension": ".py",
   "mimetype": "text/x-python",
   "name": "python",
   "nbconvert_exporter": "python",
   "pygments_lexer": "ipython3",
   "version": "3.9.7"
  }
 },
 "nbformat": 4,
 "nbformat_minor": 1
}
